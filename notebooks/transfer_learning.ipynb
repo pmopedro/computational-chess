{
  "cells": [
    {
      "cell_type": "markdown",
      "metadata": {
        "id": "view-in-github",
        "colab_type": "text"
      },
      "source": [
        "<a href=\"https://colab.research.google.com/github/pmopedro/computational-chess/blob/fabio/notebooks/transfer_learning.ipynb\" target=\"_parent\"><img src=\"https://colab.research.google.com/assets/colab-badge.svg\" alt=\"Open In Colab\"/></a>"
      ]
    },
    {
      "cell_type": "code",
      "execution_count": 1,
      "id": "5a79bf92-815b-4e1b-9b04-13d11626448e",
      "metadata": {
        "id": "5a79bf92-815b-4e1b-9b04-13d11626448e"
      },
      "outputs": [],
      "source": [
        "import pandas as pd\n",
        "import tensorflow as tf\n",
        "import joblib"
      ]
    },
    {
      "cell_type": "code",
      "source": [
        "!pip install chess\n",
        "import chess"
      ],
      "metadata": {
        "colab": {
          "base_uri": "https://localhost:8080/"
        },
        "id": "ro7Yckv_yljD",
        "outputId": "d7b59dd1-f7f3-450b-9d87-3e8e2cf9ef5f"
      },
      "id": "ro7Yckv_yljD",
      "execution_count": 2,
      "outputs": [
        {
          "output_type": "stream",
          "name": "stdout",
          "text": [
            "Requirement already satisfied: chess in /usr/local/lib/python3.10/dist-packages (1.10.0)\n"
          ]
        }
      ]
    },
    {
      "cell_type": "code",
      "source": [
        "from google.colab import drive\n",
        "drive.mount('/content/gdrive')"
      ],
      "metadata": {
        "id": "k-VD8Hfjo4yY",
        "colab": {
          "base_uri": "https://localhost:8080/"
        },
        "outputId": "6c59868a-2c1d-4278-cb65-948c7a9b8c4a"
      },
      "id": "k-VD8Hfjo4yY",
      "execution_count": 3,
      "outputs": [
        {
          "output_type": "stream",
          "name": "stdout",
          "text": [
            "Drive already mounted at /content/gdrive; to attempt to forcibly remount, call drive.mount(\"/content/gdrive\", force_remount=True).\n"
          ]
        }
      ]
    },
    {
      "cell_type": "code",
      "source": [
        "test_folder = '/content/gdrive/MyDrive/IA006_Projeto/test/'\n",
        "test_info = test_folder + 'games_positions.csv'\n",
        "\n",
        "df_test = pd.read_csv(test_info)"
      ],
      "metadata": {
        "id": "O_aKmgKax-so"
      },
      "id": "O_aKmgKax-so",
      "execution_count": 4,
      "outputs": []
    },
    {
      "cell_type": "markdown",
      "source": [
        "#### Funções utilitárias para processamento do FEN"
      ],
      "metadata": {
        "id": "Mu-ZPE84GfQQ"
      },
      "id": "Mu-ZPE84GfQQ"
    },
    {
      "cell_type": "code",
      "execution_count": 5,
      "id": "e3105cc8-6a2a-4c2c-8d0d-01623ca28a5c",
      "metadata": {
        "id": "e3105cc8-6a2a-4c2c-8d0d-01623ca28a5c"
      },
      "outputs": [],
      "source": [
        "def boardstate(fen):\n",
        "    board = chess.Board(fen[0])\n",
        "    fstr = str(fen[0])\n",
        "\n",
        "    if board.has_kingside_castling_rights(chess.WHITE) == True:\n",
        "        WCKI = 1\n",
        "    else:\n",
        "        WCKI = 0\n",
        "    if board.has_queenside_castling_rights(chess.WHITE) == True:\n",
        "        WCQ = 1\n",
        "    else:\n",
        "        WCQ = 0\n",
        "    if board.is_check() == True:\n",
        "        WCH = 1\n",
        "    else:\n",
        "        WCH = 0\n",
        "\n",
        "    if board.has_kingside_castling_rights(chess.BLACK) == True:\n",
        "        BCKI = 1\n",
        "    else:\n",
        "        BCKI = 0\n",
        "    if board.has_queenside_castling_rights(chess.BLACK) == True:\n",
        "        BCQ = 1\n",
        "    else:\n",
        "        BCQ = 0\n",
        "    if board.was_into_check() == True:\n",
        "        BCH = 1\n",
        "    else:\n",
        "        BCH = 0\n",
        "\n",
        "    #f = [M, WCKI, WCQ, WCH, BCKI, BCQ, BCH]\n",
        "    fw = [WCKI, WCQ, WCH]\n",
        "    fb = [BCKI, BCQ, BCH]\n",
        "\n",
        "    bstr = str(board)\n",
        "    bstr = bstr.replace(\"p\", \"\\ -1\")\n",
        "    bstr = bstr.replace(\"n\", \"\\ -3\")\n",
        "    bstr = bstr.replace(\"b\", \"\\ -4\")\n",
        "    bstr = bstr.replace(\"r\", \"\\ -5\")\n",
        "    bstr = bstr.replace(\"q\", \"\\ -9\")\n",
        "    bstr = bstr.replace(\"k\", \"\\ -100\")\n",
        "    bstr = bstr.replace(\"P\", \"\\ 1\")\n",
        "    bstr = bstr.replace(\"N\", \"\\ 3\")\n",
        "    bstr = bstr.replace(\"B\", \"\\ 4\")\n",
        "    bstr = bstr.replace(\"R\", \"\\ 5\")\n",
        "    bstr = bstr.replace(\"Q\", \"\\ 9\")\n",
        "    bstr = bstr.replace(\"K\", \"\\ 100\")\n",
        "    bstr = bstr.replace(\".\", \"\\ 0\")\n",
        "    bstr = bstr.replace(\"\\ \", \",\")\n",
        "    bstr = bstr.replace(\"'\", \" \")\n",
        "    bstr = bstr.replace(\"\\n\", \"\")\n",
        "    bstr = bstr.replace(\" \", \"\")\n",
        "    bstr = bstr[1:]\n",
        "    bstr = eval(bstr)\n",
        "    bstr = list(bstr)\n",
        "    if \"w\" not in fstr:\n",
        "        for i in range(len(bstr)):\n",
        "            bstr[i] = bstr[i] * -1\n",
        "        bstr.reverse()\n",
        "        fs = fb\n",
        "        fb = fw\n",
        "        fw = fs\n",
        "\n",
        "\n",
        "    BITBOARD = fw + fb + bstr\n",
        "\n",
        "\n",
        "    return BITBOARD"
      ]
    },
    {
      "cell_type": "code",
      "execution_count": 6,
      "id": "042b80d8-5108-4364-b036-95ad6a9bbccf",
      "metadata": {
        "id": "042b80d8-5108-4364-b036-95ad6a9bbccf"
      },
      "outputs": [],
      "source": [
        "def fen_to_board(fen):\n",
        "    board = []\n",
        "    for row in fen.split('/'):\n",
        "        brow = []\n",
        "        for c in row:\n",
        "            if c == ' ':\n",
        "                break\n",
        "            elif c in '12345678':\n",
        "                brow.extend( ['--'] * int(c) )\n",
        "            elif c == 'p':\n",
        "                brow.append( 'bp' )\n",
        "            elif c == 'P':\n",
        "                brow.append( 'wp' )\n",
        "            elif c > 'Z':\n",
        "                brow.append( 'b'+c.upper() )\n",
        "            else:\n",
        "                brow.append( 'w'+c )\n",
        "\n",
        "        board.append( brow )\n",
        "    return board"
      ]
    },
    {
      "cell_type": "code",
      "source": [
        "df_test.iloc[0, 6]"
      ],
      "metadata": {
        "colab": {
          "base_uri": "https://localhost:8080/",
          "height": 36
        },
        "id": "mPEWmTmtzb1N",
        "outputId": "14eb104b-9199-4653-817a-e4d44b143274"
      },
      "id": "mPEWmTmtzb1N",
      "execution_count": 7,
      "outputs": [
        {
          "output_type": "execute_result",
          "data": {
            "text/plain": [
              "'2bqkbnr/5ppp/2Pp4/2p1p3/4P3/r1PPB3/1P2BPPP/R2QK1NR w KQk - 0 12'"
            ],
            "application/vnd.google.colaboratory.intrinsic+json": {
              "type": "string"
            }
          },
          "metadata": {},
          "execution_count": 7
        }
      ]
    },
    {
      "cell_type": "code",
      "execution_count": 8,
      "id": "5dd758af-b435-4c03-a2ad-752be1813019",
      "metadata": {
        "colab": {
          "base_uri": "https://localhost:8080/"
        },
        "id": "5dd758af-b435-4c03-a2ad-752be1813019",
        "outputId": "b3b114d5-277f-4abb-89a4-7f1aecee9887"
      },
      "outputs": [
        {
          "output_type": "execute_result",
          "data": {
            "text/plain": [
              "[['--', '--', 'bB', 'bQ', 'bK', 'bB', 'bN', 'bR'],\n",
              " ['--', '--', '--', '--', '--', 'bp', 'bp', 'bp'],\n",
              " ['--', '--', 'wp', 'bp', '--', '--', '--', '--'],\n",
              " ['--', '--', 'bp', '--', 'bp', '--', '--', '--'],\n",
              " ['--', '--', '--', '--', 'wp', '--', '--', '--'],\n",
              " ['bR', '--', 'wp', 'wp', 'wB', '--', '--', '--'],\n",
              " ['--', 'wp', '--', '--', 'wB', 'wp', 'wp', 'wp'],\n",
              " ['wR', '--', '--', 'wQ', 'wK', '--', 'wN', 'wR']]"
            ]
          },
          "metadata": {},
          "execution_count": 8
        }
      ],
      "source": [
        "fen_to_board(df_test.iloc[0,6])"
      ]
    },
    {
      "cell_type": "code",
      "source": [
        "df_test.dropna(inplace=True)"
      ],
      "metadata": {
        "id": "5CSFyxcpOZ9l"
      },
      "id": "5CSFyxcpOZ9l",
      "execution_count": 9,
      "outputs": []
    },
    {
      "cell_type": "code",
      "source": [
        "df_test.info()"
      ],
      "metadata": {
        "colab": {
          "base_uri": "https://localhost:8080/"
        },
        "id": "P_GAsnbdVaBG",
        "outputId": "c5c58fbd-94fe-4052-9160-b8fc3f252ecf"
      },
      "id": "P_GAsnbdVaBG",
      "execution_count": 10,
      "outputs": [
        {
          "output_type": "stream",
          "name": "stdout",
          "text": [
            "<class 'pandas.core.frame.DataFrame'>\n",
            "RangeIndex: 18114 entries, 0 to 18113\n",
            "Data columns (total 7 columns):\n",
            " #   Column        Non-Null Count  Dtype \n",
            "---  ------        --------------  ----- \n",
            " 0   Unnamed: 0    18114 non-null  int64 \n",
            " 1   id            18114 non-null  object\n",
            " 2   turns         18114 non-null  int64 \n",
            " 3   winner        18114 non-null  object\n",
            " 4   white_rating  18114 non-null  int64 \n",
            " 5   black_rating  18114 non-null  int64 \n",
            " 6   position      18114 non-null  object\n",
            "dtypes: int64(4), object(3)\n",
            "memory usage: 990.7+ KB\n"
          ]
        }
      ]
    },
    {
      "cell_type": "markdown",
      "source": [
        "### Conversão FEN para board numérica para as features de entrada\n",
        "\n"
      ],
      "metadata": {
        "id": "JRhU5w94Awwy"
      },
      "id": "JRhU5w94Awwy"
    },
    {
      "cell_type": "code",
      "source": [
        "data_features = df_test[['position']]\n",
        "\n",
        "data_features = data_features.apply(boardstate, axis=1)\n",
        "data_features = data_features.apply(pd.Series)\n",
        "print(data_features.head())"
      ],
      "metadata": {
        "colab": {
          "base_uri": "https://localhost:8080/"
        },
        "id": "P9fk55XSBAH_",
        "outputId": "b5605c56-efb5-4227-eaea-fa42bb7aa8aa"
      },
      "id": "P9fk55XSBAH_",
      "execution_count": 11,
      "outputs": [
        {
          "output_type": "stream",
          "name": "stdout",
          "text": [
            "   0   1   2   3   4   5   6    7   8   9   ...  60  61  62  63  64  65   66  \\\n",
            "0   1   1   0   1   0   0   0    0  -4  -9  ...   1   1   5   0   0   9  100   \n",
            "1   0   0   0   0   0   0   0 -100   0  -5  ...   1   1   5   0   0   9    0   \n",
            "2   1   1   0   0   0   0  -5    0  -4   0  ...   1   1   5   0   0   9  100   \n",
            "3   0   0   1   1   1   0  -5    0   0   0  ...   1   1   5   0   4   0    0   \n",
            "4   1   1   0   0   0   0  -5    0  -4  -9  ...   1   0   5   0   0   0  100   \n",
            "\n",
            "   67   68  69  \n",
            "0   0    3   5  \n",
            "1   5  100   0  \n",
            "2   0    0   5  \n",
            "3   5  100   0  \n",
            "4   0    0   5  \n",
            "\n",
            "[5 rows x 70 columns]\n"
          ]
        }
      ]
    },
    {
      "cell_type": "markdown",
      "source": [
        "### Conversão do ganhador do jogo para score de resultado:\n",
        "* Branco vencedor - score = 10000\n",
        "* Preto vencedor - score = -10000\n",
        "* Empates - score = 0"
      ],
      "metadata": {
        "id": "ISOufXxYD4JF"
      },
      "id": "ISOufXxYD4JF"
    },
    {
      "cell_type": "code",
      "source": [
        "def label_winner(row):\n",
        "   if row['winner'] == 'white':\n",
        "      return 10000\n",
        "   if row['winner'] == 'black':\n",
        "      return -10000\n",
        "   return 0\n",
        "\n",
        "data_labels = df_test.apply(label_winner, axis=1)\n",
        "print(data_labels.head())"
      ],
      "metadata": {
        "colab": {
          "base_uri": "https://localhost:8080/"
        },
        "id": "_cNr8fyCEMdJ",
        "outputId": "324eeaf9-1130-4f41-97a6-3b6d2ac2043c"
      },
      "id": "_cNr8fyCEMdJ",
      "execution_count": 12,
      "outputs": [
        {
          "output_type": "stream",
          "name": "stdout",
          "text": [
            "0    10000\n",
            "1    10000\n",
            "2    10000\n",
            "3    10000\n",
            "4   -10000\n",
            "dtype: int64\n"
          ]
        }
      ]
    },
    {
      "cell_type": "code",
      "execution_count": 13,
      "id": "96aeafe7-ac19-41aa-ae62-795461372ef7",
      "metadata": {
        "id": "96aeafe7-ac19-41aa-ae62-795461372ef7"
      },
      "outputs": [],
      "source": [
        "import numpy as np\n",
        "input2_columns = [0, 1, 2, 3, 4, 5]\n",
        "\n",
        "\n",
        "inputboard = data_features.drop(columns=data_features.iloc[:, input2_columns])\n",
        "inputboard = np.array(inputboard)\n",
        "inputmeta = data_features.iloc[:, input2_columns]\n",
        "inputmeta = np.array(inputmeta)"
      ]
    },
    {
      "cell_type": "code",
      "source": [
        "print(inputboard)"
      ],
      "metadata": {
        "colab": {
          "base_uri": "https://localhost:8080/"
        },
        "id": "J_qKGhFKIGei",
        "outputId": "a0ea3c30-f90f-4a0f-db9c-e4998ee82202"
      },
      "id": "J_qKGhFKIGei",
      "execution_count": 14,
      "outputs": [
        {
          "output_type": "stream",
          "name": "stdout",
          "text": [
            "[[   0    0   -4 ...    0    3    5]\n",
            " [   0 -100    0 ...    5  100    0]\n",
            " [  -5    0   -4 ...    0    0    5]\n",
            " ...\n",
            " [  -5    0   -4 ...    0    0    5]\n",
            " [  -5   -3    0 ...    0    3    5]\n",
            " [  -5    0   -9 ...    0    0    5]]\n"
          ]
        }
      ]
    },
    {
      "cell_type": "code",
      "source": [
        "print(inputmeta)"
      ],
      "metadata": {
        "colab": {
          "base_uri": "https://localhost:8080/"
        },
        "id": "hYX4TZU2IOoO",
        "outputId": "be6808cc-0993-4346-d7de-14d18644ac52"
      },
      "id": "hYX4TZU2IOoO",
      "execution_count": 15,
      "outputs": [
        {
          "output_type": "stream",
          "name": "stdout",
          "text": [
            "[[1 1 0 1 0 0]\n",
            " [0 0 0 0 0 0]\n",
            " [1 1 0 0 0 0]\n",
            " ...\n",
            " [1 1 0 0 0 0]\n",
            " [0 0 0 1 1 0]\n",
            " [1 1 0 1 1 0]]\n"
          ]
        }
      ]
    },
    {
      "cell_type": "code",
      "execution_count": 16,
      "id": "fc0d85c7-c515-4696-8259-c372fc92793c",
      "metadata": {
        "id": "fc0d85c7-c515-4696-8259-c372fc92793c"
      },
      "outputs": [],
      "source": [
        "data_features = data_features.to_numpy()\n",
        "data_labels = data_labels.to_numpy()"
      ]
    },
    {
      "cell_type": "markdown",
      "source": [
        "#### Carregamento do modelo e inferência"
      ],
      "metadata": {
        "id": "5Lj9IWDjHAQj"
      },
      "id": "5Lj9IWDjHAQj"
    },
    {
      "cell_type": "code",
      "execution_count": 17,
      "id": "f43b4861-a69b-4fc1-9b4d-f2bc2112146d",
      "metadata": {
        "id": "f43b4861-a69b-4fc1-9b4d-f2bc2112146d"
      },
      "outputs": [],
      "source": [
        "import tensorflow as tf\n",
        "import os\n",
        "import numpy as np\n",
        "\n",
        "#model_file = '/content/gdrive/MyDrive/IA006_Projeto/models/model.pkl'\n",
        "model_file = '/content/gdrive/MyDrive/IA006_Projeto/models/model1.pkl'\n",
        "\n",
        "data_model = joblib.load(model_file)"
      ]
    },
    {
      "cell_type": "code",
      "source": [
        "predictions = data_model.predict([(inputboard), (inputmeta)])"
      ],
      "metadata": {
        "colab": {
          "base_uri": "https://localhost:8080/"
        },
        "id": "0zA1vmZ6tBd3",
        "outputId": "b283af09-a99e-430a-a543-da526af758d1"
      },
      "id": "0zA1vmZ6tBd3",
      "execution_count": 18,
      "outputs": [
        {
          "output_type": "stream",
          "name": "stdout",
          "text": [
            "567/567 [==============================] - 4s 3ms/step\n"
          ]
        }
      ]
    },
    {
      "cell_type": "markdown",
      "source": [
        "#### Verificação da acurácia do método utilizado para estimar a vitória/derrota do jogador."
      ],
      "metadata": {
        "id": "fTY8YESY9H_i"
      },
      "id": "fTY8YESY9H_i"
    },
    {
      "cell_type": "code",
      "source": [
        "# Conversão de predições\n",
        "pred_new = np.full_like(predictions, 0)\n",
        "count = 0\n",
        "for i in predictions.flat:\n",
        "  if (i > 0):\n",
        "    pred_new[count] = 1\n",
        "  elif (i < 0):\n",
        "    pred_new[count] = -1\n",
        "  else:\n",
        "    pred_new[count] = 0\n",
        "  count = count+1\n",
        "\n",
        "pred_new = pred_new.transpose()"
      ],
      "metadata": {
        "id": "aILj3QqgyMtm"
      },
      "id": "aILj3QqgyMtm",
      "execution_count": 19,
      "outputs": []
    },
    {
      "cell_type": "code",
      "source": [
        "print(pred_new)"
      ],
      "metadata": {
        "colab": {
          "base_uri": "https://localhost:8080/"
        },
        "id": "hOWwSGrg68Fz",
        "outputId": "7595baf7-f3f2-416f-9f25-43ac8cd11cb5"
      },
      "id": "hOWwSGrg68Fz",
      "execution_count": 20,
      "outputs": [
        {
          "output_type": "stream",
          "name": "stdout",
          "text": [
            "[[ 1.  1.  1. ...  1. -1.  1.]]\n"
          ]
        }
      ]
    },
    {
      "cell_type": "code",
      "source": [
        "# Conversão de datalabels\n",
        "labels_new = np.full_like(data_labels, 0)\n",
        "count = 0\n",
        "for i in data_labels.flat:\n",
        "  if (i > 0):\n",
        "    labels_new[count] = 1\n",
        "  elif (i < 0):\n",
        "    labels_new[count] = -1\n",
        "  else:\n",
        "    labels_new[count] = 0\n",
        "  count = count+1"
      ],
      "metadata": {
        "id": "0xq0tWvvz8UL"
      },
      "id": "0xq0tWvvz8UL",
      "execution_count": 21,
      "outputs": []
    },
    {
      "cell_type": "code",
      "source": [
        "print(labels_new)"
      ],
      "metadata": {
        "colab": {
          "base_uri": "https://localhost:8080/"
        },
        "id": "DP1GgH5c8U1J",
        "outputId": "66fdf78d-4080-4edb-820d-eecee9e284d6"
      },
      "id": "DP1GgH5c8U1J",
      "execution_count": 22,
      "outputs": [
        {
          "output_type": "stream",
          "name": "stdout",
          "text": [
            "[ 1  1  1 ...  1  1 -1]\n"
          ]
        }
      ]
    },
    {
      "cell_type": "code",
      "source": [
        "# Contagem do número de elementos iguais (Medida de acurácia do método)\n",
        "\n",
        "print(np.sum(pred_new == labels_new) / pred_new.size)"
      ],
      "metadata": {
        "colab": {
          "base_uri": "https://localhost:8080/"
        },
        "id": "A0V0K_0s8tBB",
        "outputId": "9d0fd13b-3512-4053-9b5f-ca5c65bdd547"
      },
      "id": "A0V0K_0s8tBB",
      "execution_count": 23,
      "outputs": [
        {
          "output_type": "stream",
          "name": "stdout",
          "text": [
            "0.514022303190902\n"
          ]
        }
      ]
    }
  ],
  "metadata": {
    "kernelspec": {
      "display_name": "Python 3",
      "name": "python3"
    },
    "language_info": {
      "codemirror_mode": {
        "name": "ipython",
        "version": 3
      },
      "file_extension": ".py",
      "mimetype": "text/x-python",
      "name": "python",
      "nbconvert_exporter": "python",
      "pygments_lexer": "ipython3",
      "version": "3.10.12"
    },
    "colab": {
      "provenance": [],
      "gpuType": "T4",
      "include_colab_link": true
    },
    "accelerator": "GPU"
  },
  "nbformat": 4,
  "nbformat_minor": 5
}