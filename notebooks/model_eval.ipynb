{
 "cells": [
  {
   "cell_type": "markdown",
   "metadata": {
    "colab_type": "text",
    "id": "view-in-github"
   },
   "source": [
    "<a href=\"https://colab.research.google.com/github/pmopedro/computational-chess/blob/pedro/notebooks/Explore1.ipynb\" target=\"_parent\"><img src=\"https://colab.research.google.com/assets/colab-badge.svg\" alt=\"Open In Colab\"/></a>"
   ]
  },
  {
   "cell_type": "code",
   "execution_count": 70,
   "metadata": {
    "colab": {
     "base_uri": "https://localhost:8080/"
    },
    "id": "f7LZliG2sP39",
    "outputId": "a87a0dde-88e1-4b46-aca5-8663f5361c09"
   },
   "outputs": [],
   "source": [
    "import pandas as pd\n",
    "import tensorflow as tf"
   ]
  },
  {
   "cell_type": "code",
   "execution_count": 71,
   "metadata": {
    "id": "gwLtcoBWs4SZ"
   },
   "outputs": [],
   "source": [
    "datainfo =  \"../data/chessData.csv\" # proj_folder + 'chessData.csv'\n",
    "df = pd.read_csv(datainfo)"
   ]
  },
  {
   "cell_type": "markdown",
   "metadata": {
    "id": "ulDGhwQPyJ1P"
   },
   "source": [
    "# Exploratory Data Analysis"
   ]
  },
  {
   "cell_type": "code",
   "execution_count": 72,
   "metadata": {
    "colab": {
     "base_uri": "https://localhost:8080/",
     "height": 206
    },
    "id": "RuRsONDIx6k_",
    "outputId": "bcee7b46-fafc-47dd-ba12-89620432dada"
   },
   "outputs": [
    {
     "data": {
      "text/html": [
       "<div>\n",
       "<style scoped>\n",
       "    .dataframe tbody tr th:only-of-type {\n",
       "        vertical-align: middle;\n",
       "    }\n",
       "\n",
       "    .dataframe tbody tr th {\n",
       "        vertical-align: top;\n",
       "    }\n",
       "\n",
       "    .dataframe thead th {\n",
       "        text-align: right;\n",
       "    }\n",
       "</style>\n",
       "<table border=\"1\" class=\"dataframe\">\n",
       "  <thead>\n",
       "    <tr style=\"text-align: right;\">\n",
       "      <th></th>\n",
       "      <th>FEN</th>\n",
       "      <th>Evaluation</th>\n",
       "    </tr>\n",
       "  </thead>\n",
       "  <tbody>\n",
       "    <tr>\n",
       "      <th>0</th>\n",
       "      <td>rnbqkbnr/pppppppp/8/8/4P3/8/PPPP1PPP/RNBQKBNR ...</td>\n",
       "      <td>-10</td>\n",
       "    </tr>\n",
       "    <tr>\n",
       "      <th>1</th>\n",
       "      <td>rnbqkbnr/pppp1ppp/4p3/8/4P3/8/PPPP1PPP/RNBQKBN...</td>\n",
       "      <td>+56</td>\n",
       "    </tr>\n",
       "    <tr>\n",
       "      <th>2</th>\n",
       "      <td>rnbqkbnr/pppp1ppp/4p3/8/3PP3/8/PPP2PPP/RNBQKBN...</td>\n",
       "      <td>-9</td>\n",
       "    </tr>\n",
       "    <tr>\n",
       "      <th>3</th>\n",
       "      <td>rnbqkbnr/ppp2ppp/4p3/3p4/3PP3/8/PPP2PPP/RNBQKB...</td>\n",
       "      <td>+52</td>\n",
       "    </tr>\n",
       "    <tr>\n",
       "      <th>4</th>\n",
       "      <td>rnbqkbnr/ppp2ppp/4p3/3p4/3PP3/8/PPPN1PPP/R1BQK...</td>\n",
       "      <td>-26</td>\n",
       "    </tr>\n",
       "  </tbody>\n",
       "</table>\n",
       "</div>"
      ],
      "text/plain": [
       "                                                 FEN Evaluation\n",
       "0  rnbqkbnr/pppppppp/8/8/4P3/8/PPPP1PPP/RNBQKBNR ...        -10\n",
       "1  rnbqkbnr/pppp1ppp/4p3/8/4P3/8/PPPP1PPP/RNBQKBN...        +56\n",
       "2  rnbqkbnr/pppp1ppp/4p3/8/3PP3/8/PPP2PPP/RNBQKBN...         -9\n",
       "3  rnbqkbnr/ppp2ppp/4p3/3p4/3PP3/8/PPP2PPP/RNBQKB...        +52\n",
       "4  rnbqkbnr/ppp2ppp/4p3/3p4/3PP3/8/PPPN1PPP/R1BQK...        -26"
      ]
     },
     "execution_count": 72,
     "metadata": {},
     "output_type": "execute_result"
    }
   ],
   "source": [
    "df.head()"
   ]
  },
  {
   "cell_type": "code",
   "execution_count": 73,
   "metadata": {},
   "outputs": [
    {
     "name": "stdout",
     "output_type": "stream",
     "text": [
      "<class 'pandas.core.frame.DataFrame'>\n",
      "RangeIndex: 12958035 entries, 0 to 12958034\n",
      "Data columns (total 2 columns):\n",
      " #   Column      Dtype \n",
      "---  ------      ----- \n",
      " 0   FEN         object\n",
      " 1   Evaluation  object\n",
      "dtypes: object(2)\n",
      "memory usage: 197.7+ MB\n"
     ]
    }
   ],
   "source": [
    "df.info()"
   ]
  },
  {
   "cell_type": "code",
   "execution_count": 74,
   "metadata": {},
   "outputs": [
    {
     "name": "stdout",
     "output_type": "stream",
     "text": [
      "(1000000,)\n",
      "(1000000,)\n"
     ]
    }
   ],
   "source": [
    "x_test=df['FEN'].tail(1000000)\n",
    "print(x_test.shape)\n",
    "y_test=df['Evaluation'].tail(1000000)\n",
    "print(y_test.shape)\n",
    "del df"
   ]
  },
  {
   "cell_type": "code",
   "execution_count": 75,
   "metadata": {
    "id": "pqakCV4jtKTq"
   },
   "outputs": [],
   "source": [
    "import chess\n",
    "def boardstate(fen):\n",
    "    board = chess.Board(fen)\n",
    "    fstr = str(fen)\n",
    "\n",
    "    if board.has_kingside_castling_rights(chess.WHITE) == True:\n",
    "        WCKI = 1\n",
    "    else:\n",
    "        WCKI = 0\n",
    "    if board.has_queenside_castling_rights(chess.WHITE) == True:\n",
    "        WCQ = 1\n",
    "    else:\n",
    "        WCQ = 0\n",
    "    if board.is_check() == True:\n",
    "        WCH = 1\n",
    "    else:\n",
    "        WCH = 0\n",
    "\n",
    "    if board.has_kingside_castling_rights(chess.BLACK) == True:\n",
    "        BCKI = 1\n",
    "    else:\n",
    "        BCKI = 0\n",
    "    if board.has_queenside_castling_rights(chess.BLACK) == True:\n",
    "        BCQ = 1\n",
    "    else:\n",
    "        BCQ = 0\n",
    "    if board.was_into_check() == True:\n",
    "        BCH = 1\n",
    "    else:\n",
    "        BCH = 0\n",
    "\n",
    "    #f = [M, WCKI, WCQ, WCH, BCKI, BCQ, BCH]\n",
    "    fw = [WCKI, WCQ, WCH]\n",
    "    fb = [BCKI, BCQ, BCH]\n",
    "\n",
    "    bstr = str(board)\n",
    "    bstr = bstr.replace(\"p\", \"\\ -1\")\n",
    "    bstr = bstr.replace(\"n\", \"\\ -3\")\n",
    "    bstr = bstr.replace(\"b\", \"\\ -4\")\n",
    "    bstr = bstr.replace(\"r\", \"\\ -5\")\n",
    "    bstr = bstr.replace(\"q\", \"\\ -9\")\n",
    "    bstr = bstr.replace(\"k\", \"\\ -100\")\n",
    "    bstr = bstr.replace(\"P\", \"\\ 1\")\n",
    "    bstr = bstr.replace(\"N\", \"\\ 3\")\n",
    "    bstr = bstr.replace(\"B\", \"\\ 4\")\n",
    "    bstr = bstr.replace(\"R\", \"\\ 5\")\n",
    "    bstr = bstr.replace(\"Q\", \"\\ 9\")\n",
    "    bstr = bstr.replace(\"K\", \"\\ 100\")\n",
    "    bstr = bstr.replace(\".\", \"\\ 0\")\n",
    "    bstr = bstr.replace(\"\\ \", \",\")\n",
    "    bstr = bstr.replace(\"'\", \" \")\n",
    "    bstr = bstr.replace(\"\\n\", \"\")\n",
    "    bstr = bstr.replace(\" \", \"\")\n",
    "    bstr = bstr[1:]\n",
    "    bstr = eval(bstr)\n",
    "    bstr = list(bstr)\n",
    "    if \"w\" not in fstr:\n",
    "        for i in range(len(bstr)):\n",
    "            bstr[i] = bstr[i] * -1\n",
    "        bstr.reverse()\n",
    "        fs = fb\n",
    "        fb = fw\n",
    "        fw = fs\n",
    "\n",
    "\n",
    "    BITBOARD = fw + fb + bstr\n",
    "\n",
    "\n",
    "    return BITBOARD\n"
   ]
  },
  {
   "cell_type": "code",
   "execution_count": 76,
   "metadata": {},
   "outputs": [
    {
     "name": "stdout",
     "output_type": "stream",
     "text": [
      "          0   1   2   3   4   5   6    7    8   9   ...  60  61  62  63  64  \\\n",
      "11958035   0   0   0   0   0   0   0 -100    0   0  ...   1   0   5   0   0   \n",
      "11958036   0   0   0   0   0   0   0 -100    0   0  ...   1   1   5   0   0   \n",
      "11958037   0   0   0   0   0   0   0 -100    0   0  ...   1   0   5   0   0   \n",
      "11958038   0   0   0   0   0   0   0    0 -100   0  ...   1   1   5   0   0   \n",
      "11958039   0   0   0   0   0   0   0 -100    0   0  ...   1   0   5   0   0   \n",
      "\n",
      "          65  66   67   68  69  \n",
      "11958035   0   0    5  100   0  \n",
      "11958036   0   0    0  100   0  \n",
      "11958037   0   0    0  100   0  \n",
      "11958038   0   0    0  100   0  \n",
      "11958039   0   0  100    0   0  \n",
      "\n",
      "[5 rows x 70 columns]\n"
     ]
    }
   ],
   "source": [
    "import numpy as np\n",
    "input2_columns = [0, 1, 2, 3, 4, 5]\n",
    "\n",
    "data_features = x_test.apply(boardstate)\n",
    "data_features = data_features.apply(pd.Series)\n",
    "print(data_features.head())"
   ]
  },
  {
   "cell_type": "code",
   "execution_count": 77,
   "metadata": {},
   "outputs": [],
   "source": [
    "inputboard = data_features.drop(columns=data_features.iloc[:, input2_columns])\n",
    "inputboard = np.array(inputboard)\n",
    "inputmeta = data_features.iloc[:, input2_columns]\n",
    "inputmeta = np.array(inputmeta)"
   ]
  },
  {
   "cell_type": "code",
   "execution_count": 78,
   "metadata": {},
   "outputs": [],
   "source": [
    "def strfix(tr):\n",
    "    if '#' in str(tr):\n",
    "        if '-' in tr:\n",
    "            t = -10000\n",
    "        else:\n",
    "            t = 10000\n",
    "    elif '\\ufeff+23' in str(tr):\n",
    "        t = 0\n",
    "    else:\n",
    "        t = int(float(tr))\n",
    "\n",
    "    t = t/10\n",
    "    return t\n",
    "\n",
    "y_test= y_test.apply(strfix)"
   ]
  },
  {
   "cell_type": "code",
   "execution_count": 79,
   "metadata": {},
   "outputs": [],
   "source": [
    "import joblib\n",
    "model_file1 = '../models/model_V100_7MM.pkl'\n",
    "\n",
    "model1 = joblib.load(model_file1)"
   ]
  },
  {
   "cell_type": "code",
   "execution_count": 80,
   "metadata": {},
   "outputs": [
    {
     "name": "stdout",
     "output_type": "stream",
     "text": [
      "Evaluate on test data\n",
      "31250/31250 [==============================] - 369s 12ms/step\n"
     ]
    }
   ],
   "source": [
    "print(\"Evaluate on test data\")\n",
    "results = model1.predict([(inputboard), (inputmeta)])"
   ]
  },
  {
   "cell_type": "code",
   "execution_count": 81,
   "metadata": {},
   "outputs": [
    {
     "name": "stdout",
     "output_type": "stream",
     "text": [
      "Overall Mean Squared Error: 23919.574\n",
      "Overall Mean Absolute Error: 55.818485\n"
     ]
    }
   ],
   "source": [
    "batch_size = 100  # Adjust the batch size according to your memory capacity\n",
    "num_samples = x_test.shape[0]\n",
    "\n",
    "mse_values = []\n",
    "mae_values = []\n",
    "for i in range(0, num_samples, batch_size):\n",
    "    x_batch = results[i:i+batch_size]\n",
    "    y_batch = y_test[i:i+batch_size]\n",
    "    mse = tf.keras.losses.mean_squared_error(y_batch, x_batch).numpy()\n",
    "    mae = tf.keras.losses.mean_absolute_error(y_batch, x_batch).numpy()\n",
    "    mse_values.append(mse)\n",
    "    mae_values.append(mae)\n",
    "\n",
    "overall_mse = np.mean(mse_values)\n",
    "overall_mae = np.mean(mae_values)\n",
    "print(\"Overall Mean Squared Error:\", overall_mse)\n",
    "print(\"Overall Mean Absolute Error:\", overall_mae)"
   ]
  },
  {
   "cell_type": "code",
   "execution_count": 82,
   "metadata": {},
   "outputs": [],
   "source": [
    "import os\n",
    "import glob\n",
    "\n",
    "def list_pickles(directory):\n",
    "    \"\"\"\n",
    "    List all pickle files in a specified directory.\n",
    "\n",
    "    Args:\n",
    "    - directory: The path to the directory to search for pickle files.\n",
    "\n",
    "    Returns:\n",
    "    - List of paths to pickle files found in the directory.\n",
    "    \"\"\"\n",
    "    pickle_files = []\n",
    "    \n",
    "    # Check if the directory exists\n",
    "    if not os.path.exists(directory):\n",
    "        print(f\"Directory '{directory}' does not exist.\")\n",
    "        return pickle_files\n",
    "\n",
    "    # Search for pickle files using glob\n",
    "    search_pattern = os.path.join(directory, '*.pkl')\n",
    "    pickle_files = glob.glob(search_pattern)\n",
    "\n",
    "    return pickle_files\n"
   ]
  },
  {
   "cell_type": "code",
   "execution_count": 83,
   "metadata": {},
   "outputs": [
    {
     "data": {
      "text/plain": [
       "['../models/model_7MM_DL2.pkl',\n",
       " '../models/model1.pkl',\n",
       " '../models/model.pkl',\n",
       " '../models/model_7MM_DL1.pkl',\n",
       " '../models/model_7MM_DL0.pkl',\n",
       " '../models/model_V100_7MM.pkl',\n",
       " '../models/final_model.pkl']"
      ]
     },
     "execution_count": 83,
     "metadata": {},
     "output_type": "execute_result"
    }
   ],
   "source": [
    "list_pickles(\"../models/\")"
   ]
  },
  {
   "cell_type": "markdown",
   "metadata": {
    "id": "DoyC3nf80mIk"
   },
   "source": [
    "# Models Evaluations"
   ]
  },
  {
   "cell_type": "code",
   "execution_count": 84,
   "metadata": {
    "id": "7NZxk7_v4VsI"
   },
   "outputs": [
    {
     "name": "stdout",
     "output_type": "stream",
     "text": [
      "===========================\n",
      "../models/model_7MM_DL2.pkl\n",
      "Evaluate on test data\n",
      "31250/31250 [==============================] - 374s 12ms/step\n",
      "Overall Mean Squared Error: 23675.867\n",
      "Overall Mean Absolute Error: 54.089268\n",
      "===========================\n",
      "===========================\n",
      "../models/model1.pkl\n",
      "Evaluate on test data\n",
      "31250/31250 [==============================] - 357s 11ms/step\n",
      "Overall Mean Squared Error: 21682.86\n",
      "Overall Mean Absolute Error: 50.157383\n",
      "===========================\n",
      "===========================\n",
      "../models/model.pkl\n",
      "Evaluate on test data\n",
      "31250/31250 [==============================] - 364s 12ms/step\n",
      "Overall Mean Squared Error: 22172.072\n",
      "Overall Mean Absolute Error: 51.049458\n",
      "===========================\n",
      "===========================\n",
      "../models/model_7MM_DL1.pkl\n",
      "Evaluate on test data\n",
      "31250/31250 [==============================] - 390s 12ms/step\n",
      "Overall Mean Squared Error: 23491.162\n",
      "Overall Mean Absolute Error: 53.369904\n",
      "===========================\n",
      "===========================\n",
      "../models/model_7MM_DL0.pkl\n",
      "Evaluate on test data\n",
      "31250/31250 [==============================] - 411s 13ms/step\n",
      "Overall Mean Squared Error: 23619.287\n",
      "Overall Mean Absolute Error: 53.79201\n",
      "===========================\n",
      "===========================\n",
      "../models/model_V100_7MM.pkl\n",
      "Evaluate on test data\n",
      "31250/31250 [==============================] - 341s 11ms/step\n",
      "Overall Mean Squared Error: 23919.574\n",
      "Overall Mean Absolute Error: 55.818485\n",
      "===========================\n",
      "===========================\n",
      "../models/final_model.pkl\n",
      "Evaluate on test data\n",
      "31250/31250 [==============================] - 369s 12ms/step\n",
      "Overall Mean Squared Error: 23427.473\n",
      "Overall Mean Absolute Error: 53.77179\n",
      "===========================\n"
     ]
    }
   ],
   "source": [
    "import joblib\n",
    "model_file1 = '../models/model_V100_7MM.pkl'\n",
    "\n",
    "for model in list_pickles(\"../models/\"):\n",
    "    print(\"===========================\")\n",
    "    print(model)\n",
    "    model = joblib.load(model)\n",
    "    \n",
    "    print(\"Evaluate on test data\")\n",
    "    results = model.predict([(inputboard), (inputmeta)])\n",
    "    \n",
    "    batch_size = 100  # Adjust the batch size according to your memory capacity\n",
    "    num_samples = x_test.shape[0]\n",
    "    \n",
    "    mse_values = []\n",
    "    mae_values = []\n",
    "    for i in range(0, num_samples, batch_size):\n",
    "        x_batch = results[i:i+batch_size]\n",
    "        y_batch = y_test[i:i+batch_size]\n",
    "        mse = tf.keras.losses.mean_squared_error(y_batch, x_batch).numpy()\n",
    "        mae = tf.keras.losses.mean_absolute_error(y_batch, x_batch).numpy()\n",
    "        mse_values.append(mse)\n",
    "        mae_values.append(mae)\n",
    "    \n",
    "    overall_mse = np.mean(mse_values)\n",
    "    overall_mae = np.mean(mae_values)\n",
    "    print(\"Overall Mean Squared Error:\", overall_mse)\n",
    "    print(\"Overall Mean Absolute Error:\", overall_mae)\n",
    "    print(\"===========================\")\n"
   ]
  },
  {
   "cell_type": "code",
   "execution_count": null,
   "metadata": {
    "id": "IWobtbcRRPYn"
   },
   "outputs": [],
   "source": []
  }
 ],
 "metadata": {
  "colab": {
   "authorship_tag": "ABX9TyNNkHWM/Sf6LCUvcnPI6bix",
   "include_colab_link": true,
   "provenance": []
  },
  "kernelspec": {
   "display_name": "Python 3 (ipykernel)",
   "language": "python",
   "name": "python3"
  },
  "language_info": {
   "codemirror_mode": {
    "name": "ipython",
    "version": 3
   },
   "file_extension": ".py",
   "mimetype": "text/x-python",
   "name": "python",
   "nbconvert_exporter": "python",
   "pygments_lexer": "ipython3",
   "version": "3.10.12"
  }
 },
 "nbformat": 4,
 "nbformat_minor": 4
}
